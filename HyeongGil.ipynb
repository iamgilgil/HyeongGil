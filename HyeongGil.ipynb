{
  "nbformat": 4,
  "nbformat_minor": 0,
  "metadata": {
    "colab": {
      "name": "HyeongGil.ipynb",
      "provenance": [],
      "authorship_tag": "ABX9TyNxerCSKPMdiKQISrBk7JY7",
      "include_colab_link": true
    },
    "kernelspec": {
      "name": "python3",
      "display_name": "Python 3"
    }
  },
  "cells": [
    {
      "cell_type": "markdown",
      "metadata": {
        "id": "view-in-github",
        "colab_type": "text"
      },
      "source": [
        "<a href=\"https://colab.research.google.com/github/iamgilgil/HyeongGil/blob/master/HyeongGil.ipynb\" target=\"_parent\"><img src=\"https://colab.research.google.com/assets/colab-badge.svg\" alt=\"Open In Colab\"/></a>"
      ]
    },
    {
      "cell_type": "markdown",
      "metadata": {
        "id": "7-wB7YMefRYn",
        "colab_type": "text"
      },
      "source": [
        "#1주차 과제\n",
        "\n",
        "#1. [기가지니2](https://shop.kt.com/)\n",
        "![Alt text](http://blogfiles.naver.net/MjAxODA5MTlfMjYz/MDAxNTM3MzI4ODQ1NDA0.fgrwj9pAnU1y79VcTVsa3DcdTFKTwXb_pz75Ors4thsg.HUrynAEMnSso0FcGkmh4toQoTDwlyxtas171sezPEnQg.PNG.rw0007/%B1%E2%B0%A1%C1%F6%B4%CF2.png \"이미지\")"
      ]
    }
  ]
}